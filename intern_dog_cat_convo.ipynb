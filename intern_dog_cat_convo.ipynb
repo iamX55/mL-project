{
 "cells": [
  {
   "cell_type": "code",
   "execution_count": 14,
   "id": "8febfbb5",
   "metadata": {},
   "outputs": [],
   "source": [
    "import numpy as np\n",
    "import pandas as pd\n",
    "import matplotlib.pyplot as plt\n",
    "import tensorflow as tf\n",
    "from tensorflow import keras"
   ]
  },
  {
   "cell_type": "code",
   "execution_count": 15,
   "id": "eaf88470",
   "metadata": {},
   "outputs": [],
   "source": [
    "train_dr = r'C:\\Users\\91842\\OneDrive\\Desktop\\data\\train'\n",
    "test_dr = r'C:\\Users\\91842\\OneDrive\\Desktop\\data\\test'\n",
    "validation_dr = r'C:\\Users\\91842\\OneDrive\\Desktop\\data\\validation'"
   ]
  },
  {
   "cell_type": "code",
   "execution_count": 16,
   "id": "9fd1027f",
   "metadata": {},
   "outputs": [],
   "source": [
    "#Data preprocessing\n",
    "#1.read the picture file\n",
    "\n",
    "#2.decolde the jpg content into RGB grid pixels\n",
    "\n",
    "#3.convert it into floating point Tensor\n",
    "\n",
    "#4.Rescale the pixel values between (0-255) to the [0-1] interval"
   ]
  },
  {
   "cell_type": "code",
   "execution_count": 17,
   "id": "5ea9c97f",
   "metadata": {},
   "outputs": [],
   "source": [
    "from keras.preprocessing.image import ImageDataGenerator"
   ]
  },
  {
   "cell_type": "code",
   "execution_count": 18,
   "id": "e9847c39",
   "metadata": {},
   "outputs": [
    {
     "name": "stdout",
     "output_type": "stream",
     "text": [
      "Found 2000 images belonging to 2 classes.\n",
      "Found 1000 images belonging to 2 classes.\n"
     ]
    }
   ],
   "source": [
    "#Generating batches of tensor image data\n",
    "train_datagen = ImageDataGenerator(rescale=1./255)\n",
    "test_datagen = ImageDataGenerator(rescale=1./255)\n",
    "train_generator = train_datagen.flow_from_directory(\n",
    "    train_dr,\n",
    "    target_size=(150,150),\n",
    "    batch_size=20,\n",
    "    class_mode = 'binary')\n",
    "\n",
    "validation_generator = test_datagen.flow_from_directory(\n",
    "    validation_dr,\n",
    "     target_size=(150,150),\n",
    "    batch_size=20,\n",
    "   class_mode ='binary')\n"
   ]
  },
  {
   "cell_type": "code",
   "execution_count": 19,
   "id": "e673fc12",
   "metadata": {},
   "outputs": [],
   "source": [
    "from tensorflow.keras import layers\n",
    "from tensorflow.keras import models"
   ]
  },
  {
   "cell_type": "code",
   "execution_count": 20,
   "id": "4f4fe169",
   "metadata": {},
   "outputs": [],
   "source": [
    "model = models.Sequential()\n",
    "model.add(layers.Conv2D(32,(3,3),activation='relu', input_shape=(150,150,3)))\n",
    "model.add(layers.MaxPooling2D((2,2)))\n",
    "model.add(layers.Conv2D(64,(3,3),activation='relu', input_shape=[150,150,3]))\n",
    "model.add(layers.MaxPooling2D((2,2)))\n",
    "model.add(layers.Conv2D(128,(3,3),activation='relu', input_shape=[150,150,3]))\n",
    "model.add(layers.MaxPooling2D((2,2)))\n",
    "model.add(layers.Conv2D(128,(3,3),activation='relu', input_shape=[150,150,3]))\n",
    "model.add(layers.MaxPooling2D((2,2)))\n",
    "model.add(layers.Flatten())\n",
    "model.add(layers.Dense(512, activation='relu'))\n",
    "model.add(layers.Dense(1, activation='sigmoid'))"
   ]
  },
  {
   "cell_type": "code",
   "execution_count": 21,
   "id": "e8f8d470",
   "metadata": {},
   "outputs": [
    {
     "name": "stdout",
     "output_type": "stream",
     "text": [
      "Model: \"sequential_1\"\n",
      "_________________________________________________________________\n",
      " Layer (type)                Output Shape              Param #   \n",
      "=================================================================\n",
      " conv2d_4 (Conv2D)           (None, 148, 148, 32)      896       \n",
      "                                                                 \n",
      " max_pooling2d_4 (MaxPooling  (None, 74, 74, 32)       0         \n",
      " 2D)                                                             \n",
      "                                                                 \n",
      " conv2d_5 (Conv2D)           (None, 72, 72, 64)        18496     \n",
      "                                                                 \n",
      " max_pooling2d_5 (MaxPooling  (None, 36, 36, 64)       0         \n",
      " 2D)                                                             \n",
      "                                                                 \n",
      " conv2d_6 (Conv2D)           (None, 34, 34, 128)       73856     \n",
      "                                                                 \n",
      " max_pooling2d_6 (MaxPooling  (None, 17, 17, 128)      0         \n",
      " 2D)                                                             \n",
      "                                                                 \n",
      " conv2d_7 (Conv2D)           (None, 15, 15, 128)       147584    \n",
      "                                                                 \n",
      " max_pooling2d_7 (MaxPooling  (None, 7, 7, 128)        0         \n",
      " 2D)                                                             \n",
      "                                                                 \n",
      " flatten_1 (Flatten)         (None, 6272)              0         \n",
      "                                                                 \n",
      " dense_2 (Dense)             (None, 512)               3211776   \n",
      "                                                                 \n",
      " dense_3 (Dense)             (None, 1)                 513       \n",
      "                                                                 \n",
      "=================================================================\n",
      "Total params: 3,453,121\n",
      "Trainable params: 3,453,121\n",
      "Non-trainable params: 0\n",
      "_________________________________________________________________\n"
     ]
    }
   ],
   "source": [
    "model.summary()"
   ]
  },
  {
   "cell_type": "code",
   "execution_count": 23,
   "id": "11acd207",
   "metadata": {},
   "outputs": [],
   "source": [
    "from tensorflow.keras import optimizers\n",
    "model.compile(\n",
    "    loss='binary_crossentropy',\n",
    "    optimizer = optimizers.RMSprop(lr=1e-4),\n",
    "    metrics=['acc']\n",
    ")"
   ]
  },
  {
   "cell_type": "code",
   "execution_count": 26,
   "id": "5c5b35ba",
   "metadata": {},
   "outputs": [
    {
     "name": "stderr",
     "output_type": "stream",
     "text": [
      "C:\\Users\\91842\\AppData\\Local\\Temp/ipykernel_11512/3935959632.py:1: UserWarning: `Model.fit_generator` is deprecated and will be removed in a future version. Please use `Model.fit`, which supports generators.\n",
      "  model_history = model.fit_generator(\n"
     ]
    },
    {
     "name": "stdout",
     "output_type": "stream",
     "text": [
      "Epoch 1/20\n",
      "100/100 [==============================] - 35s 337ms/step - loss: 0.6845 - acc: 0.5515 - val_loss: 0.6661 - val_acc: 0.5830\n",
      "Epoch 2/20\n",
      "100/100 [==============================] - 31s 309ms/step - loss: 0.6505 - acc: 0.6245 - val_loss: 0.6406 - val_acc: 0.6260\n",
      "Epoch 3/20\n",
      "100/100 [==============================] - 33s 334ms/step - loss: 0.6018 - acc: 0.6785 - val_loss: 0.6510 - val_acc: 0.6160\n",
      "Epoch 4/20\n",
      "100/100 [==============================] - 33s 330ms/step - loss: 0.5648 - acc: 0.7155 - val_loss: 0.6590 - val_acc: 0.6340\n",
      "Epoch 5/20\n",
      "100/100 [==============================] - 31s 314ms/step - loss: 0.5367 - acc: 0.7220 - val_loss: 0.5859 - val_acc: 0.6880\n",
      "Epoch 6/20\n",
      "100/100 [==============================] - 33s 334ms/step - loss: 0.5094 - acc: 0.7460 - val_loss: 0.6281 - val_acc: 0.6710\n",
      "Epoch 7/20\n",
      "100/100 [==============================] - 33s 329ms/step - loss: 0.4772 - acc: 0.7670 - val_loss: 0.6059 - val_acc: 0.6690\n",
      "Epoch 8/20\n",
      "100/100 [==============================] - 33s 329ms/step - loss: 0.4509 - acc: 0.7935 - val_loss: 0.5535 - val_acc: 0.7170\n",
      "Epoch 9/20\n",
      "100/100 [==============================] - 33s 333ms/step - loss: 0.4330 - acc: 0.7940 - val_loss: 0.5565 - val_acc: 0.7170\n",
      "Epoch 10/20\n",
      "100/100 [==============================] - 33s 328ms/step - loss: 0.3994 - acc: 0.8190 - val_loss: 0.5522 - val_acc: 0.7270\n",
      "Epoch 11/20\n",
      "100/100 [==============================] - 33s 330ms/step - loss: 0.3810 - acc: 0.8315 - val_loss: 0.5432 - val_acc: 0.7350\n",
      "Epoch 12/20\n",
      "100/100 [==============================] - 33s 329ms/step - loss: 0.3648 - acc: 0.8355 - val_loss: 0.5942 - val_acc: 0.7190\n",
      "Epoch 13/20\n",
      "100/100 [==============================] - 33s 328ms/step - loss: 0.3419 - acc: 0.8480 - val_loss: 0.5241 - val_acc: 0.7490\n",
      "Epoch 14/20\n",
      "100/100 [==============================] - 33s 328ms/step - loss: 0.3215 - acc: 0.8605 - val_loss: 0.5429 - val_acc: 0.7400\n",
      "Epoch 15/20\n",
      "100/100 [==============================] - 34s 335ms/step - loss: 0.3011 - acc: 0.8760 - val_loss: 0.5738 - val_acc: 0.7300\n",
      "Epoch 16/20\n",
      "100/100 [==============================] - 33s 331ms/step - loss: 0.2763 - acc: 0.8870 - val_loss: 0.5623 - val_acc: 0.7460\n",
      "Epoch 17/20\n",
      "100/100 [==============================] - 33s 329ms/step - loss: 0.2564 - acc: 0.9005 - val_loss: 0.5849 - val_acc: 0.7350\n",
      "Epoch 18/20\n",
      "100/100 [==============================] - 33s 328ms/step - loss: 0.2374 - acc: 0.9105 - val_loss: 0.5693 - val_acc: 0.7510\n",
      "Epoch 19/20\n",
      "100/100 [==============================] - 34s 340ms/step - loss: 0.2111 - acc: 0.9210 - val_loss: 0.5866 - val_acc: 0.7540\n",
      "Epoch 20/20\n",
      "100/100 [==============================] - 33s 332ms/step - loss: 0.1961 - acc: 0.9250 - val_loss: 0.5787 - val_acc: 0.7470\n"
     ]
    }
   ],
   "source": [
    "model_history = model.fit_generator(\n",
    "    train_generator,\n",
    "    steps_per_epoch=100,\n",
    "    epochs=20,\n",
    "    validation_data = validation_generator,\n",
    "    validation_steps=50,\n",
    ")"
   ]
  },
  {
   "cell_type": "code",
   "execution_count": 28,
   "id": "7c6d18b9",
   "metadata": {},
   "outputs": [
    {
     "data": {
      "image/png": "[encoded data removed]",
      "text/plain": [
       "<Figure size 576x360 with 1 Axes>"
      ]
     },
     "metadata": {
      "needs_background": "light"
     },
     "output_type": "display_data"
    }
   ],
   "source": [
    "pd.DataFrame(model_history.history).plot(figsize=(8,5))\n",
    "plt.grid(True)\n",
    "plt.gca().set_ylim(0,1)\n",
    "plt.show()"
   ]
  },
  {
   "cell_type": "code",
   "execution_count": 29,
   "id": "90bc15ba",
   "metadata": {},
   "outputs": [],
   "source": [
    "model.save(\"model_dog_cat.h5\")"
   ]
  },
  {
   "cell_type": "code",
   "execution_count": 31,
   "id": "e0785509",
   "metadata": {},
   "outputs": [
    {
     "name": "stdout",
     "output_type": "stream",
     "text": [
      "Found 1000 images belonging to 2 classes.\n"
     ]
    }
   ],
   "source": [
    "test_generator = train_datagen.flow_from_directory(\n",
    "    test_dr,\n",
    "    target_size=(150,150),\n",
    "    batch_size=20,\n",
    "    class_mode = 'binary')"
   ]
  },
  {
   "cell_type": "code",
   "execution_count": 32,
   "id": "67d61cbb",
   "metadata": {},
   "outputs": [
    {
     "name": "stdout",
     "output_type": "stream",
     "text": [
      "50/50 [==============================] - 5s 103ms/step - loss: 0.6048 - acc: 0.7450\n"
     ]
    },
    {
     "data": {
      "text/plain": [
       "[0.6047760248184204, 0.7450000047683716]"
      ]
     },
     "execution_count": 32,
     "metadata": {},
     "output_type": "execute_result"
    }
   ],
   "source": [
    "model.evaluate(test_generator,steps=50)"
   ]
  },
  {
   "cell_type": "code",
   "execution_count": null,
   "id": "50993559",
   "metadata": {},
   "outputs": [],
   "source": []
  }
 ],
 "metadata": {
  "kernelspec": {
   "display_name": "Python 3 (ipykernel)",
   "language": "python",
   "name": "python3"
  },
  "language_info": {
   "codemirror_mode": {
    "name": "ipython",
    "version": 3
   },
   "file_extension": ".py",
   "mimetype": "text/x-python",
   "name": "python",
   "nbconvert_exporter": "python",
   "pygments_lexer": "ipython3",
   "version": "3.9.7"
  }
 },
 "nbformat": 4,
 "nbformat_minor": 5
}
