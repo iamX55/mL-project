{
 "cells": [
  {
   "cell_type": "code",
   "execution_count": 4,
   "id": "3587a9f9",
   "metadata": {},
   "outputs": [],
   "source": [
    "import numpy as np\n",
    "import pandas as pd\n",
    "import tensorflow as tf\n",
    "from tensorflow import keras"
   ]
  },
  {
   "cell_type": "code",
   "execution_count": 5,
   "id": "feecac9c",
   "metadata": {},
   "outputs": [],
   "source": [
    "from tensorflow.keras.applications import InceptionV3"
   ]
  },
  {
   "cell_type": "code",
   "execution_count": 6,
   "id": "f1251408",
   "metadata": {},
   "outputs": [],
   "source": [
    "conv_base = InceptionV3(\n",
    "     input_shape = (150,150,3),\n",
    "    weights='imagenet',\n",
    "    include_top = False\n",
    "   \n",
    ")"
   ]
  },
  {
   "cell_type": "code",
   "execution_count": 7,
   "id": "5ade878c",
   "metadata": {},
   "outputs": [],
   "source": [
    "checkpoint_cb=keras.callbacks.ModelCheckpoint(\"bone.h5\")"
   ]
  },
  {
   "cell_type": "code",
   "execution_count": 8,
   "id": "c67e10c1",
   "metadata": {},
   "outputs": [],
   "source": [
    "train_dr = r'C:\\Users\\91842\\OneDrive\\Desktop\\data\\Osteoarthritis_Assignment_dataset\\train'\n",
    "test_dr = r'C:\\Users\\91842\\OneDrive\\Desktop\\data\\Osteoarthritis_Assignment_dataset\\test'\n",
    "validation_dr = r'C:\\Users\\91842\\OneDrive\\Desktop\\data\\Osteoarthritis_Assignment_dataset\\valid'"
   ]
  },
  {
   "cell_type": "code",
   "execution_count": 9,
   "id": "283ff732",
   "metadata": {},
   "outputs": [],
   "source": [
    "from keras.preprocessing.image import ImageDataGenerator"
   ]
  },
  {
   "cell_type": "code",
   "execution_count": 10,
   "id": "c39ce436",
   "metadata": {},
   "outputs": [],
   "source": [
    "train_datagen = ImageDataGenerator(\n",
    "    rescale=1./255,\n",
    "    rotation_range=40,\n",
    "    width_shift_range=0.2,\n",
    "    height_shift_range=0.2,\n",
    "    shear_range=0.2,\n",
    "    zoom_range=0.2,\n",
    "    horizontal_flip=True\n",
    ")"
   ]
  },
  {
   "cell_type": "code",
   "execution_count": 11,
   "id": "744faf45",
   "metadata": {},
   "outputs": [],
   "source": [
    "test_datagen = ImageDataGenerator(\n",
    "    rescale=1./255\n",
    ")"
   ]
  },
  {
   "cell_type": "code",
   "execution_count": 12,
   "id": "a081aa36",
   "metadata": {},
   "outputs": [
    {
     "name": "stdout",
     "output_type": "stream",
     "text": [
      "Found 2350 images belonging to 2 classes.\n"
     ]
    }
   ],
   "source": [
    "train_generator = train_datagen.flow_from_directory(\n",
    "    train_dr,\n",
    "    target_size=(150,150),\n",
    "    batch_size=20,\n",
    "    class_mode='binary'\n",
    ")"
   ]
  },
  {
   "cell_type": "code",
   "execution_count": null,
   "id": "8bcf6e69",
   "metadata": {},
   "outputs": [],
   "source": []
  },
  {
   "cell_type": "code",
   "execution_count": 13,
   "id": "fc149076",
   "metadata": {},
   "outputs": [
    {
     "name": "stdout",
     "output_type": "stream",
     "text": [
      "Found 641 images belonging to 2 classes.\n"
     ]
    }
   ],
   "source": [
    "valid_generator=test_datagen.flow_from_directory(\n",
    "    validation_dr,\n",
    "    target_size=(150,150),\n",
    "    batch_size=20,\n",
    "    class_mode='binary'\n",
    ")"
   ]
  },
  {
   "cell_type": "code",
   "execution_count": 16,
   "id": "c680e103",
   "metadata": {},
   "outputs": [],
   "source": [
    "from tensorflow.keras import models\n",
    "from tensorflow.keras import layers\n",
    "model = models.Sequential()\n",
    "model.add(conv_base)\n",
    "model.add(layers.Flatten())\n",
    "model.add(layers.Dense(256, activation='relu'))\n",
    "model.add(layers.Dense(1, activation='sigmoid'))"
   ]
  },
  {
   "cell_type": "code",
   "execution_count": 17,
   "id": "66e9f1d0",
   "metadata": {},
   "outputs": [],
   "source": [
    "from tensorflow.keras import optimizers\n",
    "model.compile(\n",
    "    loss='binary_crossentropy',\n",
    "    optimizer = optimizers.RMSprop(lr =1e-2),\n",
    "    metrics=['acc']\n",
    ")"
   ]
  },
  {
   "cell_type": "code",
   "execution_count": 19,
   "id": "1cce822d",
   "metadata": {},
   "outputs": [
    {
     "name": "stderr",
     "output_type": "stream",
     "text": [
      "C:\\Users\\91842\\AppData\\Local\\Temp/ipykernel_5576/3613717046.py:1: UserWarning: `Model.fit_generator` is deprecated and will be removed in a future version. Please use `Model.fit`, which supports generators.\n",
      "  model_history = model.fit_generator(\n"
     ]
    },
    {
     "name": "stdout",
     "output_type": "stream",
     "text": [
      "Epoch 1/10\n",
      "100/100 [==============================] - ETA: 0s - loss: 6.8026 - acc: 0.6055WARNING:tensorflow:Your input ran out of data; interrupting training. Make sure that your dataset or generator can generate at least `steps_per_epoch * epochs` batches (in this case, 50 batches). You may need to use the repeat() function when building your dataset.\n",
      "100/100 [==============================] - 209s 2s/step - loss: 6.8026 - acc: 0.6055 - val_loss: 149436768.0000 - val_acc: 0.6724\n",
      "Epoch 2/10\n",
      "100/100 [==============================] - 150s 2s/step - loss: 0.6968 - acc: 0.6548\n",
      "Epoch 3/10\n",
      "100/100 [==============================] - 155s 2s/step - loss: 0.8299 - acc: 0.6573\n",
      "Epoch 4/10\n",
      "100/100 [==============================] - 157s 2s/step - loss: 0.6688 - acc: 0.6588\n",
      "Epoch 5/10\n",
      "100/100 [==============================] - 152s 2s/step - loss: 0.7108 - acc: 0.6492\n",
      "Epoch 6/10\n",
      "100/100 [==============================] - 151s 2s/step - loss: 0.6612 - acc: 0.6540\n",
      "Epoch 7/10\n",
      "100/100 [==============================] - 148s 1s/step - loss: 0.6732 - acc: 0.6543\n",
      "Epoch 8/10\n",
      "100/100 [==============================] - 146s 1s/step - loss: 0.6515 - acc: 0.6487\n",
      "Epoch 9/10\n",
      "100/100 [==============================] - 147s 1s/step - loss: 0.6606 - acc: 0.6492\n",
      "Epoch 10/10\n",
      "100/100 [==============================] - 146s 1s/step - loss: 0.6514 - acc: 0.6472\n"
     ]
    }
   ],
   "source": [
    "\n",
    "model_history = model.fit_generator(\n",
    "    train_generator,\n",
    "    steps_per_epoch=100,\n",
    "    epochs=10,\n",
    "    validation_data = valid_generator,\n",
    "    validation_steps=50,\n",
    "     callbacks = [checkpoint_cb]\n",
    ")"
   ]
  },
  {
   "cell_type": "code",
   "execution_count": 22,
   "id": "45dee550",
   "metadata": {},
   "outputs": [
    {
     "name": "stdout",
     "output_type": "stream",
     "text": [
      "Found 845 images belonging to 2 classes.\n"
     ]
    }
   ],
   "source": [
    "test_generator = test_datagen.flow_from_directory(\n",
    "    test_dr,\n",
    "    target_size=(150,150),\n",
    "    batch_size=20,\n",
    "    class_mode = 'binary')"
   ]
  },
  {
   "cell_type": "code",
   "execution_count": 23,
   "id": "07faf197",
   "metadata": {},
   "outputs": [
    {
     "name": "stdout",
     "output_type": "stream",
     "text": [
      "43/50 [========================>.....] - ETA: 1s - loss: 0.8385 - acc: 0.3266WARNING:tensorflow:Your input ran out of data; interrupting training. Make sure that your dataset or generator can generate at least `steps_per_epoch * epochs` batches (in this case, 50 batches). You may need to use the repeat() function when building your dataset.\n",
      "50/50 [==============================] - 10s 191ms/step - loss: 0.8385 - acc: 0.3266\n"
     ]
    },
    {
     "data": {
      "text/plain": [
       "[0.8384931683540344, 0.3266272246837616]"
      ]
     },
     "execution_count": 23,
     "metadata": {},
     "output_type": "execute_result"
    }
   ],
   "source": [
    "model.evaluate(test_generator,steps=50)"
   ]
  },
  {
   "cell_type": "code",
   "execution_count": null,
   "id": "70f2fa3b",
   "metadata": {},
   "outputs": [],
   "source": []
  }
 ],
 "metadata": {
  "kernelspec": {
   "display_name": "Python 3 (ipykernel)",
   "language": "python",
   "name": "python3"
  },
  "language_info": {
   "codemirror_mode": {
    "name": "ipython",
    "version": 3
   },
   "file_extension": ".py",
   "mimetype": "text/x-python",
   "name": "python",
   "nbconvert_exporter": "python",
   "pygments_lexer": "ipython3",
   "version": "3.9.7"
  }
 },
 "nbformat": 4,
 "nbformat_minor": 5
}
