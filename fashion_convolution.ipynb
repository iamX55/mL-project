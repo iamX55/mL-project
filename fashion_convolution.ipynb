{
  "nbformat": 4,
  "nbformat_minor": 0,
  "metadata": {
    "colab": {
      "provenance": [],
      "collapsed_sections": [],
      "authorship_tag": "ABX9TyPwPYocmjIqnaGLCUqMg7dA",
      "include_colab_link": true
    },
    "kernelspec": {
      "name": "python3",
      "display_name": "Python 3"
    },
    "language_info": {
      "name": "python"
    },
    "accelerator": "GPU",
    "gpuClass": "standard"
  },
  "cells": [
    {
      "cell_type": "markdown",
      "metadata": {
        "id": "view-in-github",
        "colab_type": "text"
      },
      "source": [
        "<a href=\"https://colab.research.google.com/github/iamX55/mL-project/blob/main/fashion_convolution.ipynb\" target=\"_parent\"><img src=\"https://colab.research.google.com/assets/colab-badge.svg\" alt=\"Open In Colab\"/></a>"
      ]
    },
    {
      "cell_type": "code",
      "execution_count": null,
      "metadata": {
        "id": "vosFXZsc2uyk"
      },
      "outputs": [],
      "source": [
        "import numpy as np\n",
        "import tensorflow\n",
        "from tensorflow import keras\n",
        "import matplotlib.pyplot as plt\n",
        "import seaborn as sns\n"
      ]
    },
    {
      "cell_type": "code",
      "source": [
        "(X_train,y_train),(X_test,y_test) = keras.datasets.fashion_mnist.load_data()"
      ],
      "metadata": {
        "id": "3A9EQ9ck5EyX",
        "colab": {
          "base_uri": "https://localhost:8080/"
        },
        "outputId": "5f651036-f42d-464e-99a3-5e03ebf58ddf"
      },
      "execution_count": null,
      "outputs": [
        {
          "output_type": "stream",
          "name": "stdout",
          "text": [
            "Downloading data from https://storage.googleapis.com/tensorflow/tf-keras-datasets/train-labels-idx1-ubyte.gz\n",
            "32768/29515 [=================================] - 0s 0us/step\n",
            "40960/29515 [=========================================] - 0s 0us/step\n",
            "Downloading data from https://storage.googleapis.com/tensorflow/tf-keras-datasets/train-images-idx3-ubyte.gz\n",
            "26427392/26421880 [==============================] - 0s 0us/step\n",
            "26435584/26421880 [==============================] - 0s 0us/step\n",
            "Downloading data from https://storage.googleapis.com/tensorflow/tf-keras-datasets/t10k-labels-idx1-ubyte.gz\n",
            "16384/5148 [===============================================================================================] - 0s 0us/step\n",
            "Downloading data from https://storage.googleapis.com/tensorflow/tf-keras-datasets/t10k-images-idx3-ubyte.gz\n",
            "4423680/4422102 [==============================] - 0s 0us/step\n",
            "4431872/4422102 [==============================] - 0s 0us/step\n"
          ]
        }
      ]
    },
    {
      "cell_type": "code",
      "source": [
        "X_test.shape"
      ],
      "metadata": {
        "colab": {
          "base_uri": "https://localhost:8080/"
        },
        "id": "QohG6u7rT-V0",
        "outputId": "f3368e55-e5fb-44af-c99e-e54ab43cc9ce"
      },
      "execution_count": null,
      "outputs": [
        {
          "output_type": "execute_result",
          "data": {
            "text/plain": [
              "(10000, 28, 28)"
            ]
          },
          "metadata": {},
          "execution_count": 8
        }
      ]
    },
    {
      "cell_type": "code",
      "source": [
        "plt.imshow(X_train[0])"
      ],
      "metadata": {
        "colab": {
          "base_uri": "https://localhost:8080/",
          "height": 282
        },
        "id": "Q80vnGtm5Vha",
        "outputId": "7ae2a4d5-baf6-4e69-84df-daf1fcb4be82"
      },
      "execution_count": null,
      "outputs": [
        {
          "output_type": "execute_result",
          "data": {
            "text/plain": [
              "<matplotlib.image.AxesImage at 0x7f23e0141810>"
            ]
          },
          "metadata": {},
          "execution_count": 9
        },
        {
          "output_type": "display_data",
          "data": {
            "text/plain": [
              "<Figure size 432x288 with 1 Axes>"
            ],
            "image/png": "[encoded data removed]"
          },
          "metadata": {
            "needs_background": "light"
          }
        }
      ]
    },
    {
      "cell_type": "code",
      "source": [
        "X_train=np.expand_dims(X_train,-1)\n",
        "X_test=np.expand_dims(X_test,-1)"
      ],
      "metadata": {
        "id": "EC2tu6rh51P-"
      },
      "execution_count": null,
      "outputs": []
    },
    {
      "cell_type": "markdown",
      "source": [
        "#Scalling"
      ],
      "metadata": {
        "id": "EQhMvCAF-tTF"
      }
    },
    {
      "cell_type": "code",
      "source": [
        "X_train=X_train/255;\n",
        "X_test=X_test/255;"
      ],
      "metadata": {
        "id": "xYXmRz3p-ntF"
      },
      "execution_count": null,
      "outputs": []
    },
    {
      "cell_type": "code",
      "source": [
        "y_train[0]"
      ],
      "metadata": {
        "colab": {
          "base_uri": "https://localhost:8080/"
        },
        "id": "AdGFarBkSXUd",
        "outputId": "6ea8a7e4-5a11-4d75-ab65-ea3cb5597663"
      },
      "execution_count": null,
      "outputs": [
        {
          "output_type": "execute_result",
          "data": {
            "text/plain": [
              "9"
            ]
          },
          "metadata": {},
          "execution_count": 31
        }
      ]
    },
    {
      "cell_type": "code",
      "source": [],
      "metadata": {
        "id": "vtT7uNcRT8lm"
      },
      "execution_count": null,
      "outputs": []
    },
    {
      "cell_type": "markdown",
      "source": [
        "#Split Data"
      ],
      "metadata": {
        "id": "5_Dn2LCi_OFz"
      }
    },
    {
      "cell_type": "code",
      "source": [
        "from sklearn.model_selection import train_test_split"
      ],
      "metadata": {
        "id": "JtDBXZZQQ4Qt"
      },
      "execution_count": null,
      "outputs": []
    },
    {
      "cell_type": "code",
      "source": [
        "X_train, X_val, y_train, y_val = train_test_split(X_train, y_train, test_size=0.2, random_state=2020)"
      ],
      "metadata": {
        "id": "e9HlKUkvREYJ"
      },
      "execution_count": null,
      "outputs": []
    },
    {
      "cell_type": "code",
      "source": [
        "model = keras.models.Sequential([\n",
        "            keras.layers.Conv2D(filters=32, kernel_size=3, strides=(1,1), padding='valid',activation='relu',input_shape=[28,28,1]),\n",
        "            keras.layers.MaxPooling2D(pool_size=(2,2)),\n",
        "            keras.layers.Flatten(),\n",
        "            keras.layers.Dense(units=128,activation='relu'),\n",
        "            keras.layers.Dense(units=10, activation='softmax')\n",
        "\n",
        "\n",
        "])"
      ],
      "metadata": {
        "id": "f2BQWPUZ6jiL"
      },
      "execution_count": null,
      "outputs": []
    },
    {
      "cell_type": "code",
      "source": [
        "model.summary()"
      ],
      "metadata": {
        "colab": {
          "base_uri": "https://localhost:8080/"
        },
        "id": "RDtwmwpc8c0l",
        "outputId": "f2974857-ac40-4595-cb43-236c65943484"
      },
      "execution_count": null,
      "outputs": [
        {
          "output_type": "stream",
          "name": "stdout",
          "text": [
            "Model: \"sequential\"\n",
            "_________________________________________________________________\n",
            " Layer (type)                Output Shape              Param #   \n",
            "=================================================================\n",
            " conv2d (Conv2D)             (None, 26, 26, 32)        320       \n",
            "                                                                 \n",
            " max_pooling2d (MaxPooling2D  (None, 13, 13, 32)       0         \n",
            " )                                                               \n",
            "                                                                 \n",
            " flatten (Flatten)           (None, 5408)              0         \n",
            "                                                                 \n",
            " dense (Dense)               (None, 128)               692352    \n",
            "                                                                 \n",
            " dense_1 (Dense)             (None, 10)                1290      \n",
            "                                                                 \n",
            "=================================================================\n",
            "Total params: 693,962\n",
            "Trainable params: 693,962\n",
            "Non-trainable params: 0\n",
            "_________________________________________________________________\n"
          ]
        }
      ]
    },
    {
      "cell_type": "code",
      "source": [
        "model.compile(\n",
        "      optimizer='adam',\n",
        "      loss='sparse_categorical_crossentropy',\n",
        "      metrics=['accuracy']\n",
        ")"
      ],
      "metadata": {
        "id": "UPqVV3p78hkz"
      },
      "execution_count": null,
      "outputs": []
    },
    {
      "cell_type": "code",
      "source": [
        "model.fit(X_train,y_train,epochs=10, batch_size=512,verbose=1,validation_data=(X_val,y_val))"
      ],
      "metadata": {
        "colab": {
          "base_uri": "https://localhost:8080/"
        },
        "id": "F5fSxfLY9Of1",
        "outputId": "45902705-992d-4838-8859-d9a23aa69c25"
      },
      "execution_count": null,
      "outputs": [
        {
          "output_type": "stream",
          "name": "stdout",
          "text": [
            "Epoch 1/10\n",
            "94/94 [==============================] - 13s 11ms/step - loss: 0.6231 - accuracy: 0.7878 - val_loss: 0.4253 - val_accuracy: 0.8526\n",
            "Epoch 2/10\n",
            "94/94 [==============================] - 1s 8ms/step - loss: 0.3714 - accuracy: 0.8709 - val_loss: 0.3565 - val_accuracy: 0.8757\n",
            "Epoch 3/10\n",
            "94/94 [==============================] - 1s 8ms/step - loss: 0.3244 - accuracy: 0.8872 - val_loss: 0.3302 - val_accuracy: 0.8866\n",
            "Epoch 4/10\n",
            "94/94 [==============================] - 1s 9ms/step - loss: 0.2956 - accuracy: 0.8965 - val_loss: 0.3191 - val_accuracy: 0.8883\n",
            "Epoch 5/10\n",
            "94/94 [==============================] - 1s 9ms/step - loss: 0.2727 - accuracy: 0.9044 - val_loss: 0.2967 - val_accuracy: 0.8967\n",
            "Epoch 6/10\n",
            "94/94 [==============================] - 1s 9ms/step - loss: 0.2585 - accuracy: 0.9088 - val_loss: 0.2867 - val_accuracy: 0.8989\n",
            "Epoch 7/10\n",
            "94/94 [==============================] - 1s 8ms/step - loss: 0.2435 - accuracy: 0.9130 - val_loss: 0.2787 - val_accuracy: 0.9006\n",
            "Epoch 8/10\n",
            "94/94 [==============================] - 1s 8ms/step - loss: 0.2279 - accuracy: 0.9194 - val_loss: 0.2762 - val_accuracy: 0.9028\n",
            "Epoch 9/10\n",
            "94/94 [==============================] - 1s 9ms/step - loss: 0.2166 - accuracy: 0.9221 - val_loss: 0.2671 - val_accuracy: 0.9058\n",
            "Epoch 10/10\n",
            "94/94 [==============================] - 1s 8ms/step - loss: 0.2079 - accuracy: 0.9258 - val_loss: 0.2608 - val_accuracy: 0.9087\n"
          ]
        },
        {
          "output_type": "execute_result",
          "data": {
            "text/plain": [
              "<keras.callbacks.History at 0x7f9e403a6950>"
            ]
          },
          "metadata": {},
          "execution_count": 11
        }
      ]
    },
    {
      "cell_type": "markdown",
      "source": [
        "#Model Predict"
      ],
      "metadata": {
        "id": "j-IFydLxVGRH"
      }
    },
    {
      "cell_type": "code",
      "source": [
        "model.predict(np.expand_dims(X_test[0],axis=0)).round(2)"
      ],
      "metadata": {
        "colab": {
          "base_uri": "https://localhost:8080/"
        },
        "id": "5B_P4iUwVIvD",
        "outputId": "e06634b3-178b-4632-fea8-f4703073fdbc"
      },
      "execution_count": null,
      "outputs": [
        {
          "output_type": "execute_result",
          "data": {
            "text/plain": [
              "array([[0.  , 0.  , 0.  , 0.  , 0.  , 0.  , 0.  , 0.02, 0.  , 0.98]],\n",
              "      dtype=float32)"
            ]
          },
          "metadata": {},
          "execution_count": 40
        }
      ]
    },
    {
      "cell_type": "code",
      "source": [
        "np.argmax(model.predict(np.expand_dims(X_test[0],axis=0)).round(2))"
      ],
      "metadata": {
        "colab": {
          "base_uri": "https://localhost:8080/"
        },
        "id": "gBGJ38y5VpO-",
        "outputId": "18bdea46-1cc8-4296-bdb1-10011b59cbda"
      },
      "execution_count": null,
      "outputs": [
        {
          "output_type": "execute_result",
          "data": {
            "text/plain": [
              "9"
            ]
          },
          "metadata": {},
          "execution_count": 41
        }
      ]
    },
    {
      "cell_type": "code",
      "source": [
        "y_test[0]"
      ],
      "metadata": {
        "colab": {
          "base_uri": "https://localhost:8080/"
        },
        "id": "xabmoDDTV5My",
        "outputId": "bf4e9665-9220-4319-b4d5-933e6354853f"
      },
      "execution_count": null,
      "outputs": [
        {
          "output_type": "execute_result",
          "data": {
            "text/plain": [
              "9"
            ]
          },
          "metadata": {},
          "execution_count": 42
        }
      ]
    },
    {
      "cell_type": "code",
      "source": [
        "y_pred=model.predict(X_test).round(2)"
      ],
      "metadata": {
        "id": "8v-0L8aWV9GR"
      },
      "execution_count": null,
      "outputs": []
    },
    {
      "cell_type": "code",
      "source": [
        "model.evaluate(X_test,y_test)"
      ],
      "metadata": {
        "colab": {
          "base_uri": "https://localhost:8080/"
        },
        "id": "FrQC4ojCWeRT",
        "outputId": "5f78905c-ee55-47f3-aac1-7d768b572419"
      },
      "execution_count": null,
      "outputs": [
        {
          "output_type": "stream",
          "name": "stdout",
          "text": [
            "313/313 [==============================] - 1s 2ms/step - loss: 0.2683 - accuracy: 0.9023\n"
          ]
        },
        {
          "output_type": "execute_result",
          "data": {
            "text/plain": [
              "[0.2682804763317108, 0.9023000001907349]"
            ]
          },
          "metadata": {},
          "execution_count": 12
        }
      ]
    },
    {
      "cell_type": "markdown",
      "source": [
        "#confusion Matrix"
      ],
      "metadata": {
        "id": "ODUdNpZQW6cg"
      }
    },
    {
      "cell_type": "code",
      "source": [
        "class_labels=[\"T-shirt/top\",\"Trouser\",\"pullover\",\"Dress\",\"Coat\",\"Sandal\",\"Shirt\",\"Sneaker\",\"Bag\",\"Ankle boot\"]"
      ],
      "metadata": {
        "id": "107H-Za7Yq2k"
      },
      "execution_count": null,
      "outputs": []
    },
    {
      "cell_type": "code",
      "source": [
        "from sklearn.metrics import confusion_matrix\n",
        "plt.figure(figsize=(16,9))\n",
        "y_pred_labels = [np.argmax(label) for label in y_pred]\n",
        "cm = confusion_matrix(y_test,y_pred_labels)\n",
        "sns.heatmap(cm,annot=True, fmt='d',xticklabels=class_labels,yticklabels=class_labels)"
      ],
      "metadata": {
        "colab": {
          "base_uri": "https://localhost:8080/",
          "height": 555
        },
        "id": "m3QEiiirW-Oh",
        "outputId": "2f7039aa-4f4e-4b6b-ddbb-e53444fbd127"
      },
      "execution_count": null,
      "outputs": [
        {
          "output_type": "execute_result",
          "data": {
            "text/plain": [
              "<matplotlib.axes._subplots.AxesSubplot at 0x7f9e40120310>"
            ]
          },
          "metadata": {},
          "execution_count": 19
        },
        {
          "output_type": "display_data",
          "data": {
            "text/plain": [
              "<Figure size 1152x648 with 2 Axes>"
            ],
            "image/png": "[encoded data removed]"
          },
          "metadata": {
            "needs_background": "light"
          }
        }
      ]
    },
    {
      "cell_type": "code",
      "source": [
        "from sklearn.metrics import classification_report\n",
        "cr = classification_report(y_test,y_pred_labels,target_names=class_labels)\n",
        "print(cr)\n"
      ],
      "metadata": {
        "colab": {
          "base_uri": "https://localhost:8080/"
        },
        "id": "yGZx9gnMY3bf",
        "outputId": "e5576196-74c3-4112-a201-fd7165c9164e"
      },
      "execution_count": null,
      "outputs": [
        {
          "output_type": "stream",
          "name": "stdout",
          "text": [
            "              precision    recall  f1-score   support\n",
            "\n",
            " T-shirt/top       0.83      0.87      0.85      1000\n",
            "     Trouser       0.98      0.98      0.98      1000\n",
            "    pullover       0.85      0.85      0.85      1000\n",
            "       Dress       0.92      0.88      0.90      1000\n",
            "        Coat       0.84      0.87      0.86      1000\n",
            "      Sandal       0.97      0.98      0.97      1000\n",
            "       Shirt       0.75      0.70      0.73      1000\n",
            "     Sneaker       0.94      0.97      0.95      1000\n",
            "         Bag       0.97      0.98      0.97      1000\n",
            "  Ankle boot       0.98      0.94      0.96      1000\n",
            "\n",
            "    accuracy                           0.90     10000\n",
            "   macro avg       0.90      0.90      0.90     10000\n",
            "weighted avg       0.90      0.90      0.90     10000\n",
            "\n"
          ]
        }
      ]
    },
    {
      "cell_type": "markdown",
      "source": [
        "#Convolutional Nueral Network"
      ],
      "metadata": {
        "id": "bVr5Sq-LpQd_"
      }
    },
    {
      "cell_type": "code",
      "source": [
        "model2 = keras.models.Sequential([\n",
        "        keras.layers.Conv2D(filters=32, kernel_size=3, strides=(1,1), padding='valid',activation='relu',input_shape=[28,28,1]),\n",
        "        keras.layers.MaxPooling2D(pool_size=(2,2)),\n",
        "        keras.layers.Conv2D(filters=64, kernel_size=3 , strides=(2,2) ,padding='same', activation='relu'),\n",
        "        keras.layers.MaxPooling2D( pool_size=(2,2)),\n",
        "        keras.layers.Flatten(),\n",
        "        keras.layers.Dense(units=128, activation='relu'),\n",
        "        keras.layers.Dropout(0.25),\n",
        "        keras.layers.Dense(units=256, activation='relu'),\n",
        "        keras.layers.Dropout(0.25),\n",
        "        keras.layers.Dense(units=128, activation='relu'),\n",
        "        keras.layers.Dense(units=10, activation='softmax')\n",
        "\n",
        "])"
      ],
      "metadata": {
        "id": "b0CbhuZkpZ0Y"
      },
      "execution_count": null,
      "outputs": []
    },
    {
      "cell_type": "code",
      "source": [
        "model2.compile(\n",
        "    optimizer='adam',\n",
        "    loss='sparse_categorical_crossentropy',\n",
        "    metrics=['accuracy']\n",
        ")"
      ],
      "metadata": {
        "id": "SAv7tYo0sZTy"
      },
      "execution_count": null,
      "outputs": []
    },
    {
      "cell_type": "code",
      "source": [
        "model2.fit(X_train,y_train,epochs=50, batch_size=512,verbose=1,validation_data=(X_val,y_val))"
      ],
      "metadata": {
        "colab": {
          "base_uri": "https://localhost:8080/"
        },
        "id": "4ShEBWcDsuRs",
        "outputId": "298377a7-b3a5-477d-cece-b57248797a84"
      },
      "execution_count": null,
      "outputs": [
        {
          "output_type": "stream",
          "name": "stdout",
          "text": [
            "Epoch 1/50\n",
            "94/94 [==============================] - 13s 16ms/step - loss: 1.0546 - accuracy: 0.6095 - val_loss: 0.5789 - val_accuracy: 0.7715\n",
            "Epoch 2/50\n",
            "94/94 [==============================] - 1s 11ms/step - loss: 0.5476 - accuracy: 0.7919 - val_loss: 0.4538 - val_accuracy: 0.8307\n",
            "Epoch 3/50\n",
            "94/94 [==============================] - 1s 11ms/step - loss: 0.4476 - accuracy: 0.8349 - val_loss: 0.3892 - val_accuracy: 0.8547\n",
            "Epoch 4/50\n",
            "94/94 [==============================] - 1s 11ms/step - loss: 0.3919 - accuracy: 0.8566 - val_loss: 0.3505 - val_accuracy: 0.8695\n",
            "Epoch 5/50\n",
            "94/94 [==============================] - 1s 11ms/step - loss: 0.3543 - accuracy: 0.8703 - val_loss: 0.3312 - val_accuracy: 0.8770\n",
            "Epoch 6/50\n",
            "94/94 [==============================] - 1s 11ms/step - loss: 0.3289 - accuracy: 0.8790 - val_loss: 0.3205 - val_accuracy: 0.8820\n",
            "Epoch 7/50\n",
            "94/94 [==============================] - 1s 10ms/step - loss: 0.3115 - accuracy: 0.8845 - val_loss: 0.3116 - val_accuracy: 0.8849\n",
            "Epoch 8/50\n",
            "94/94 [==============================] - 1s 10ms/step - loss: 0.2973 - accuracy: 0.8896 - val_loss: 0.3040 - val_accuracy: 0.8873\n",
            "Epoch 9/50\n",
            "94/94 [==============================] - 1s 10ms/step - loss: 0.2820 - accuracy: 0.8953 - val_loss: 0.2992 - val_accuracy: 0.8882\n",
            "Epoch 10/50\n",
            "94/94 [==============================] - 1s 11ms/step - loss: 0.2714 - accuracy: 0.9001 - val_loss: 0.2887 - val_accuracy: 0.8940\n",
            "Epoch 11/50\n",
            "94/94 [==============================] - 1s 11ms/step - loss: 0.2629 - accuracy: 0.9030 - val_loss: 0.2826 - val_accuracy: 0.8946\n",
            "Epoch 12/50\n",
            "94/94 [==============================] - 1s 11ms/step - loss: 0.2534 - accuracy: 0.9062 - val_loss: 0.2767 - val_accuracy: 0.8993\n",
            "Epoch 13/50\n",
            "94/94 [==============================] - 1s 10ms/step - loss: 0.2459 - accuracy: 0.9089 - val_loss: 0.2747 - val_accuracy: 0.8989\n",
            "Epoch 14/50\n",
            "94/94 [==============================] - 1s 11ms/step - loss: 0.2341 - accuracy: 0.9134 - val_loss: 0.2665 - val_accuracy: 0.9048\n",
            "Epoch 15/50\n",
            "94/94 [==============================] - 1s 11ms/step - loss: 0.2278 - accuracy: 0.9148 - val_loss: 0.2691 - val_accuracy: 0.9024\n",
            "Epoch 16/50\n",
            "94/94 [==============================] - 1s 11ms/step - loss: 0.2198 - accuracy: 0.9186 - val_loss: 0.2597 - val_accuracy: 0.9073\n",
            "Epoch 17/50\n",
            "94/94 [==============================] - 1s 11ms/step - loss: 0.2131 - accuracy: 0.9211 - val_loss: 0.2862 - val_accuracy: 0.8975\n",
            "Epoch 18/50\n",
            "94/94 [==============================] - 1s 10ms/step - loss: 0.2077 - accuracy: 0.9222 - val_loss: 0.2677 - val_accuracy: 0.9051\n",
            "Epoch 19/50\n",
            "94/94 [==============================] - 1s 11ms/step - loss: 0.2010 - accuracy: 0.9255 - val_loss: 0.2620 - val_accuracy: 0.9056\n",
            "Epoch 20/50\n",
            "94/94 [==============================] - 1s 10ms/step - loss: 0.1942 - accuracy: 0.9284 - val_loss: 0.2681 - val_accuracy: 0.9041\n",
            "Epoch 21/50\n",
            "94/94 [==============================] - 1s 10ms/step - loss: 0.1914 - accuracy: 0.9289 - val_loss: 0.2767 - val_accuracy: 0.9002\n",
            "Epoch 22/50\n",
            "94/94 [==============================] - 1s 10ms/step - loss: 0.1856 - accuracy: 0.9306 - val_loss: 0.2586 - val_accuracy: 0.9083\n",
            "Epoch 23/50\n",
            "94/94 [==============================] - 1s 11ms/step - loss: 0.1824 - accuracy: 0.9319 - val_loss: 0.2581 - val_accuracy: 0.9101\n",
            "Epoch 24/50\n",
            "94/94 [==============================] - 1s 10ms/step - loss: 0.1695 - accuracy: 0.9361 - val_loss: 0.2794 - val_accuracy: 0.9056\n",
            "Epoch 25/50\n",
            "94/94 [==============================] - 1s 10ms/step - loss: 0.1672 - accuracy: 0.9380 - val_loss: 0.2638 - val_accuracy: 0.9087\n",
            "Epoch 26/50\n",
            "94/94 [==============================] - 1s 11ms/step - loss: 0.1642 - accuracy: 0.9385 - val_loss: 0.2578 - val_accuracy: 0.9114\n",
            "Epoch 27/50\n",
            "94/94 [==============================] - 1s 10ms/step - loss: 0.1588 - accuracy: 0.9412 - val_loss: 0.2728 - val_accuracy: 0.9103\n",
            "Epoch 28/50\n",
            "94/94 [==============================] - 1s 11ms/step - loss: 0.1535 - accuracy: 0.9428 - val_loss: 0.2686 - val_accuracy: 0.9107\n",
            "Epoch 29/50\n",
            "94/94 [==============================] - 1s 10ms/step - loss: 0.1501 - accuracy: 0.9438 - val_loss: 0.2762 - val_accuracy: 0.9097\n",
            "Epoch 30/50\n",
            "94/94 [==============================] - 1s 10ms/step - loss: 0.1449 - accuracy: 0.9465 - val_loss: 0.2714 - val_accuracy: 0.9082\n",
            "Epoch 31/50\n",
            "94/94 [==============================] - 1s 11ms/step - loss: 0.1421 - accuracy: 0.9473 - val_loss: 0.2782 - val_accuracy: 0.9091\n",
            "Epoch 32/50\n",
            "94/94 [==============================] - 1s 10ms/step - loss: 0.1380 - accuracy: 0.9479 - val_loss: 0.2844 - val_accuracy: 0.9078\n",
            "Epoch 33/50\n",
            "94/94 [==============================] - 1s 10ms/step - loss: 0.1341 - accuracy: 0.9503 - val_loss: 0.2897 - val_accuracy: 0.9085\n",
            "Epoch 34/50\n",
            "94/94 [==============================] - 1s 11ms/step - loss: 0.1298 - accuracy: 0.9516 - val_loss: 0.2820 - val_accuracy: 0.9119\n",
            "Epoch 35/50\n",
            "94/94 [==============================] - 1s 11ms/step - loss: 0.1253 - accuracy: 0.9535 - val_loss: 0.2775 - val_accuracy: 0.9118\n",
            "Epoch 36/50\n",
            "94/94 [==============================] - 1s 11ms/step - loss: 0.1241 - accuracy: 0.9531 - val_loss: 0.2929 - val_accuracy: 0.9087\n",
            "Epoch 37/50\n",
            "94/94 [==============================] - 1s 10ms/step - loss: 0.1172 - accuracy: 0.9560 - val_loss: 0.2870 - val_accuracy: 0.9103\n",
            "Epoch 38/50\n",
            "94/94 [==============================] - 1s 11ms/step - loss: 0.1146 - accuracy: 0.9566 - val_loss: 0.2930 - val_accuracy: 0.9119\n",
            "Epoch 39/50\n",
            "94/94 [==============================] - 1s 10ms/step - loss: 0.1107 - accuracy: 0.9582 - val_loss: 0.3004 - val_accuracy: 0.9116\n",
            "Epoch 40/50\n",
            "94/94 [==============================] - 1s 10ms/step - loss: 0.1109 - accuracy: 0.9588 - val_loss: 0.3129 - val_accuracy: 0.9057\n",
            "Epoch 41/50\n",
            "94/94 [==============================] - 1s 10ms/step - loss: 0.1051 - accuracy: 0.9601 - val_loss: 0.3127 - val_accuracy: 0.9094\n",
            "Epoch 42/50\n",
            "94/94 [==============================] - 1s 10ms/step - loss: 0.1020 - accuracy: 0.9610 - val_loss: 0.3080 - val_accuracy: 0.9092\n",
            "Epoch 43/50\n",
            "94/94 [==============================] - 1s 11ms/step - loss: 0.1007 - accuracy: 0.9619 - val_loss: 0.3286 - val_accuracy: 0.9049\n",
            "Epoch 44/50\n",
            "94/94 [==============================] - 1s 11ms/step - loss: 0.1009 - accuracy: 0.9615 - val_loss: 0.3079 - val_accuracy: 0.9118\n",
            "Epoch 45/50\n",
            "94/94 [==============================] - 1s 12ms/step - loss: 0.0902 - accuracy: 0.9667 - val_loss: 0.3328 - val_accuracy: 0.9095\n",
            "Epoch 46/50\n",
            "94/94 [==============================] - 1s 11ms/step - loss: 0.0914 - accuracy: 0.9654 - val_loss: 0.3281 - val_accuracy: 0.9074\n",
            "Epoch 47/50\n",
            "94/94 [==============================] - 1s 10ms/step - loss: 0.0913 - accuracy: 0.9655 - val_loss: 0.3417 - val_accuracy: 0.9094\n",
            "Epoch 48/50\n",
            "94/94 [==============================] - 1s 10ms/step - loss: 0.0892 - accuracy: 0.9663 - val_loss: 0.3344 - val_accuracy: 0.9099\n",
            "Epoch 49/50\n",
            "94/94 [==============================] - 1s 10ms/step - loss: 0.0859 - accuracy: 0.9676 - val_loss: 0.3343 - val_accuracy: 0.9106\n",
            "Epoch 50/50\n",
            "94/94 [==============================] - 1s 10ms/step - loss: 0.0850 - accuracy: 0.9679 - val_loss: 0.3658 - val_accuracy: 0.9084\n"
          ]
        },
        {
          "output_type": "execute_result",
          "data": {
            "text/plain": [
              "<keras.callbacks.History at 0x7f235a305110>"
            ]
          },
          "metadata": {},
          "execution_count": 14
        }
      ]
    },
    {
      "cell_type": "code",
      "source": [
        "model2.evaluate(X_test,y_test)"
      ],
      "metadata": {
        "colab": {
          "base_uri": "https://localhost:8080/"
        },
        "id": "Nn8H69ratYZd",
        "outputId": "7ade5a7e-a9ca-437e-b2f8-2d1f7c022049"
      },
      "execution_count": null,
      "outputs": [
        {
          "output_type": "stream",
          "name": "stdout",
          "text": [
            "313/313 [==============================] - 1s 4ms/step - loss: 0.3765 - accuracy: 0.9052\n"
          ]
        },
        {
          "output_type": "execute_result",
          "data": {
            "text/plain": [
              "[0.3765174448490143, 0.9052000045776367]"
            ]
          },
          "metadata": {},
          "execution_count": 17
        }
      ]
    }
  ]
}